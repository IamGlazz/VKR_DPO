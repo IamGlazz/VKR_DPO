{
 "cells": [
  {
   "cell_type": "markdown",
   "id": "5de12dd3",
   "metadata": {},
   "source": [
    "Создаем пользовательское приложение для прогнозирования \"соотношения матрица-наполнитель\""
   ]
  },
  {
   "cell_type": "code",
   "execution_count": 1,
   "id": "7ee3e8ed",
   "metadata": {},
   "outputs": [],
   "source": [
    "# Импортируем необходимые библиотеки для нашего приложения\n",
    "import numpy as np\n",
    "import tensorflow as tf\n",
    "from tensorflow import keras\n",
    "from flask import Flask, request, render_template"
   ]
  },
  {
   "cell_type": "code",
   "execution_count": 2,
   "id": "a891d24a",
   "metadata": {},
   "outputs": [],
   "source": [
    "app = Flask(__name__, template_folder='../App/templates')"
   ]
  },
  {
   "cell_type": "code",
   "execution_count": 3,
   "id": "dd358f2f",
   "metadata": {},
   "outputs": [],
   "source": [
    "# Загружаем модель и определяем параметры функции  -  будущие входы для модели (всего 12 параметров)\n",
    "\n",
    "def set_params(param1, param2, param3, param4, param5, param6, param7, param8, param9, param10, param11, param12):\n",
    "\n",
    "    model = keras.models.load_model(\"../App/Model/\")\n",
    "    prediction = model.predict([param1, param2, param3, param4, param5, param6, param7, param8, param9, param10, param11, param12])\n",
    "\n",
    "    return prediction[0][0]"
   ]
  },
  {
   "cell_type": "code",
   "execution_count": null,
   "id": "8dd90499",
   "metadata": {},
   "outputs": [
    {
     "name": "stdout",
     "output_type": "stream",
     "text": [
      " * Serving Flask app \"__main__\" (lazy loading)\n",
      " * Environment: production\n",
      "\u001b[31m   WARNING: This is a development server. Do not use it in a production deployment.\u001b[0m\n",
      "\u001b[2m   Use a production WSGI server instead.\u001b[0m\n",
      " * Debug mode: off\n"
     ]
    },
    {
     "name": "stderr",
     "output_type": "stream",
     "text": [
      " * Running on http://127.0.0.1:5000/ (Press CTRL+C to quit)\n",
      "127.0.0.1 - - [21/Dec/2022 15:52:09] \"GET / HTTP/1.1\" 200 -\n"
     ]
    },
    {
     "name": "stdout",
     "output_type": "stream",
     "text": [
      "WARNING:tensorflow:Model was constructed with shape (None, None) for input KerasTensor(type_spec=TensorSpec(shape=(None, None), dtype=tf.float32, name='normalization_input'), name='normalization_input', description=\"created by layer 'normalization_input'\"), but it was called on an input with incompatible shape (None,).\n",
      "1/1 [==============================] - 0s 129ms/step\n"
     ]
    },
    {
     "name": "stderr",
     "output_type": "stream",
     "text": [
      "127.0.0.1 - - [21/Dec/2022 16:02:05] \"POST / HTTP/1.1\" 200 -\n"
     ]
    }
   ],
   "source": [
    "@app.route('/', methods=['post', 'get'])\n",
    "\n",
    "def app_calculation():\n",
    "    param_lst = []\n",
    "    message = ''\n",
    "    if request.method == 'POST':\n",
    "        \n",
    "       # получим данные из наших форм и кладем их в список, который затем передадим функции set_params\n",
    "        for i in range(1,13,1):\n",
    "            param = request.form.get(f'param{i}')\n",
    "            param_lst.append(float(param))\n",
    "            \n",
    "        message = set_params(*param_lst)\n",
    "\n",
    "    # указываем шаблон и прототип сайта для вывода    \n",
    "    return render_template(\"index.html\", message=message) \n",
    "\n",
    "# Запускаем приложение  \n",
    "app.run()"
   ]
  }
 ],
 "metadata": {
  "kernelspec": {
   "display_name": "Python 3 (ipykernel)",
   "language": "python",
   "name": "python3"
  },
  "language_info": {
   "codemirror_mode": {
    "name": "ipython",
    "version": 3
   },
   "file_extension": ".py",
   "mimetype": "text/x-python",
   "name": "python",
   "nbconvert_exporter": "python",
   "pygments_lexer": "ipython3",
   "version": "3.9.13"
  }
 },
 "nbformat": 4,
 "nbformat_minor": 5
}
